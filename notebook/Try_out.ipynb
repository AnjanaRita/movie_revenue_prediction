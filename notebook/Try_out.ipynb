{
 "cells": [
  {
   "cell_type": "code",
   "execution_count": 1,
   "metadata": {},
   "outputs": [],
   "source": [
    "import pickle\n",
    "import numpy as np\n",
    "import pandas as pd\n",
    "from utility.visualization import dealing_null_value"
   ]
  },
  {
   "cell_type": "code",
   "execution_count": 2,
   "metadata": {},
   "outputs": [],
   "source": [
    "IMPORTANT_FEATURE = ['budget','popularity_log','budget_log','cast_size',\n",
    "                     'crew_size','runtime','number_of_keywords',\n",
    "                     'has_collection','has_homepage', 'number_of_languages']"
   ]
  },
  {
   "cell_type": "code",
   "execution_count": 3,
   "metadata": {},
   "outputs": [],
   "source": [
    "def file_reader(path):\n",
    "    return pd.read_csv(path)\n",
    "\n",
    "def load_model():\n",
    "    with open('../model/best_model.pkl','rb') as f:\n",
    "        model = pickle.load(f)\n",
    "    return model\n",
    "\n",
    "def data_preprocess(data):\n",
    "    try:\n",
    "        data['budget_log'] = np.log1p(data['budget'])\n",
    "        data['popularity_log'] = np.log1p(data['popularity'])\n",
    "        for i in ['cast','crew','Keywords','spoken_languages']:\n",
    "            data = dealing_null_value(data,i)\n",
    "        data['cast_size'] = [len(i) for i in data.cast.values]\n",
    "        data['crew_size'] = [len(i) for i in data.crew.values]\n",
    "        data['number_of_keywords'] = [len(i) for i in data.Keywords.values]\n",
    "        data['number_of_languages'] = [len(i) for i in data.spoken_languages.values]\n",
    "        data['has_homepage'] = [1 if not pd.isnull(i) else 0 for i in data.homepage.values]\n",
    "        data['has_collection'] = [1 if not pd.isnull(i) else 0 for i in data.belongs_to_collection.values]\n",
    "        return data[IMPORTANT_FEATURE].fillna(0)\n",
    "    \n",
    "    except Exception as ex:\n",
    "        print(f'Must pass the dataframe which contain budget, popularity, cast, crew, keywords, homepage and belongs to collection')\n",
    "        return None\n",
    "    \n",
    "    \n",
    "def predict_values(data,is_path=True):\n",
    "    if is_path:\n",
    "        data = file_reader(data)\n",
    "        \n",
    "    model = load_model()\n",
    "    pred_revenue = model.predict(data_preprocess(data))\n",
    "    pred_revenue = np.expm1(pred_revenue)\n",
    "    return pd.DataFrame(dict(id=data.id, revenue=pred_revenue))"
   ]
  },
  {
   "cell_type": "code",
   "execution_count": 4,
   "metadata": {},
   "outputs": [],
   "source": [
    "# you can use the pred_values to get prediction on new samples :\n",
    "\n",
    "# you can pass the path for the file you want to excute or you can pass dataframe\n",
    "\n",
    "pred_value = predict_values('../data/ML 1.csv')\n",
    "\n",
    "#or\n",
    "\n",
    "dataframe = file_reader('../data/ML 1.csv')\n",
    "pred_value = predict_values(dataframe, is_path=False)"
   ]
  },
  {
   "cell_type": "code",
   "execution_count": null,
   "metadata": {},
   "outputs": [],
   "source": []
  },
  {
   "cell_type": "code",
   "execution_count": null,
   "metadata": {},
   "outputs": [],
   "source": []
  },
  {
   "cell_type": "code",
   "execution_count": null,
   "metadata": {},
   "outputs": [],
   "source": []
  },
  {
   "cell_type": "code",
   "execution_count": null,
   "metadata": {},
   "outputs": [],
   "source": []
  }
 ],
 "metadata": {
  "kernelspec": {
   "display_name": "Python 3",
   "language": "python",
   "name": "python3"
  },
  "language_info": {
   "codemirror_mode": {
    "name": "ipython",
    "version": 3
   },
   "file_extension": ".py",
   "mimetype": "text/x-python",
   "name": "python",
   "nbconvert_exporter": "python",
   "pygments_lexer": "ipython3",
   "version": "3.7.3"
  }
 },
 "nbformat": 4,
 "nbformat_minor": 2
}
