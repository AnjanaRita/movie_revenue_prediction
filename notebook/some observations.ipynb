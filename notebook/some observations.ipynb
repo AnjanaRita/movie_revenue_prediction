{
 "cells": [
  {
   "cell_type": "markdown",
   "metadata": {},
   "source": [
    "# Observations on DataSet: \n",
    "\n",
    "you can find a detailed exploration of most of the features in the EDA notebook. However I noticed that the dataste contains some missing values, which has been handled. and we also observed that in case of Budget, which happens to be a very important variable to predict the films revenue seemed to have some data quality issues. for instance there are about 800+ data points  out of 3000 =, which have a budget of 0 or less than 10.\n",
    "\n",
    "what does a budget of 0 or 50 mean? clearly 0 might be a case of bad values.\n",
    "but values like 50, 10, have no particular context,are they in millions? billions? not sure from the given data\n",
    "\n",
    "also further in our analysis we noticed that by removing these data points with budget less than 50, helped in improving the model performance by about 40% in most cases.\n",
    "\n",
    "\n",
    "\n",
    "Given more data, we can improve the model easily."
   ]
  },
  {
   "cell_type": "markdown",
   "metadata": {},
   "source": [
    "# what else can be done?\n",
    "\n",
    "1. Better data cleaning & data imputation.\n",
    "2. Better feature selection\n",
    "3. trying a stacking/blending model by commbining multiple learners(for instance RF+XGB+LR ...)"
   ]
  },
  {
   "cell_type": "code",
   "execution_count": 5,
   "metadata": {},
   "outputs": [
    {
     "name": "stdout",
     "output_type": "stream",
     "text": [
      "/home/genesis/projects/misc/movie_revenue_prediction/notebook\n"
     ]
    }
   ],
   "source": [
    "! pwd"
   ]
  },
  {
   "cell_type": "code",
   "execution_count": null,
   "metadata": {},
   "outputs": [],
   "source": []
  }
 ],
 "metadata": {
  "kernelspec": {
   "display_name": "Python 3",
   "language": "python",
   "name": "python3"
  },
  "language_info": {
   "codemirror_mode": {
    "name": "ipython",
    "version": 3
   },
   "file_extension": ".py",
   "mimetype": "text/x-python",
   "name": "python",
   "nbconvert_exporter": "python",
   "pygments_lexer": "ipython3",
   "version": "3.7.3"
  }
 },
 "nbformat": 4,
 "nbformat_minor": 2
}
